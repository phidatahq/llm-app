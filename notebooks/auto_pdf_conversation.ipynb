{
 "cells": [
  {
   "cell_type": "markdown",
   "id": "147a72de-12f6-4265-8ae6-78da85e90a0f",
   "metadata": {},
   "source": [
    "## Autonomous PDF Conversations\n",
    "\n",
    "This notebook shows common recipes for working with the Autonomous PDF conversation"
   ]
  },
  {
   "cell_type": "markdown",
   "id": "7f9e44f4-86b1-4d42-8cc7-daea5f19df3c",
   "metadata": {},
   "source": [
    "### Create the conversation\n",
    "\n",
    "Create the conversation and load the knowledge base"
   ]
  },
  {
   "cell_type": "code",
   "execution_count": null,
   "id": "11ec3dc5-929b-4aeb-a680-622cc2200ca6",
   "metadata": {},
   "outputs": [],
   "source": [
    "from llm.conversations.pdf_auto import get_pdf_auto_conversation\n",
    "\n",
    "pdf_auto_conversation = get_pdf_auto_conversation()\n",
    "\n",
    "LOAD_KNOWLEDGE_BASE = True\n",
    "if LOAD_KNOWLEDGE_BASE and pdf_auto_conversation.knowledge_base:\n",
    "    pdf_auto_conversation.knowledge_base.load(recreate=False)"
   ]
  },
  {
   "cell_type": "markdown",
   "id": "32794361-7c00-4dac-9f66-f6bdfe08945e",
   "metadata": {},
   "source": [
    "### Chatting with the Autonomous PDF conversation \n",
    "\n",
    "You can chat with a conversation using:\n",
    "1. The `print_response()` function that prints the reponse\n",
    "2. The `chat()` function that returns the response"
   ]
  },
  {
   "cell_type": "code",
   "execution_count": 2,
   "id": "f138be8a-7605-484f-8600-48d0adea6820",
   "metadata": {},
   "outputs": [
    {
     "data": {
      "application/vnd.jupyter.widget-view+json": {
       "model_id": "b870b3332a9442f6a0a62b72ffa7a568",
       "version_major": 2,
       "version_minor": 0
      },
      "text/plain": [
       "Output()"
      ]
     },
     "metadata": {},
     "output_type": "display_data"
    },
    {
     "data": {
      "text/html": [
       "<pre style=\"white-space:pre;overflow-x:auto;line-height:normal;font-family:Menlo,'DejaVu Sans Mono',consolas,'Courier New',monospace\"></pre>\n"
      ],
      "text/plain": []
     },
     "metadata": {},
     "output_type": "display_data"
    }
   ],
   "source": [
    "pdf_auto_conversation.print_response(\"Tell me about food safety?\", stream=True)"
   ]
  },
  {
   "cell_type": "code",
   "execution_count": 3,
   "id": "0945b63a-1a8d-436b-b20b-a000779e2afa",
   "metadata": {},
   "outputs": [
    {
     "name": "stdout",
     "output_type": "stream",
     "text": [
      "\n",
      " - Running: search_knowledge_base(query=food safety)\n",
      "\n",
      "Food safety involves several basic principles to avoid cross-contamination, ensure cleanliness, and proper storage of food items. Here are four basic principles:\n",
      "\n",
      "1. **Cross Contamination**: It's important to keep raw and cooked foods separate to prevent cross-contamination. Use separate chopping boards for different food types, cover your hair, wear protective clothing like aprons, and wash fruits, vegetables, and salads before use.\n",
      "\n",
      "2. **Cleaning**: Wash your hands before starting work, after handling raw foods, after using the restroom, and after touching dirty packaging. Clean work surfaces regularly, especially after preparing food, using sanitizers and clean cloths.\n",
      "\n",
      "3. **Chilling**: Foods that must be kept chilled usually have a 'use by' date and instructions to keep refrigerated. Chill foods that you've cooked and plan to use later, as well as ready-to-eat foods like sandwiches, cooked meats, and salads.\n"
     ]
    }
   ],
   "source": [
    "food_safety_response = pdf_auto_conversation.chat(\"Tell me about food safety?\", stream=False)\n",
    "print(food_safety_response)"
   ]
  }
 ],
 "metadata": {
  "kernelspec": {
   "display_name": "Python 3 (ipykernel)",
   "language": "python",
   "name": "python3"
  },
  "language_info": {
   "codemirror_mode": {
    "name": "ipython",
    "version": 3
   },
   "file_extension": ".py",
   "mimetype": "text/x-python",
   "name": "python",
   "nbconvert_exporter": "python",
   "pygments_lexer": "ipython3",
   "version": "3.11.5"
  }
 },
 "nbformat": 4,
 "nbformat_minor": 5
}
