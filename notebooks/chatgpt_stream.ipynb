{
 "cells": [
  {
   "cell_type": "code",
   "execution_count": 1,
   "id": "5ebc982b-56fe-4037-9537-3bf14c414b1e",
   "metadata": {},
   "outputs": [],
   "source": [
    "import openai\n",
    "from os import environ\n",
    "\n",
    "# -*- Set OPENAI_API_KEY in one of 3 ways:\n",
    "# 1. In `workspace/secrets/openai-api-key.txt`\n",
    "# 2. Set OPENAI_API_KEY Env variable in workspace/secrets/dev_jupyter_secrets.yml\n",
    "#    NOTE: needs a container restart using `phi ws restart dev:docker:lab -y`\n",
    "# 3. Directly in this notebook (NOT RECOMMENDED)\n",
    "if environ.get(\"OPENAI_API_KEY\", None) is None:\n",
    "    from workspace.settings import ws_settings\n",
    "\n",
    "    OPENAI_API_KEY_FILE = ws_settings.ws_root.joinpath(\n",
    "        \"workspace/secrets/openai-api-key.txt\"\n",
    "    )\n",
    "    openai.api_key = OPENAI_API_KEY_FILE.read_text().strip()"
   ]
  },
  {
   "cell_type": "code",
   "execution_count": 3,
   "id": "8621bf64-d717-41bb-ae9f-3d7f5da25b45",
   "metadata": {
    "tags": []
   },
   "outputs": [
    {
     "name": "stdout",
     "output_type": "stream",
     "text": [
      "1. Databox\n",
      "2. Querytrooper\n",
      "3. HyperspaceSQL\n",
      "4. SQL-B-8\n",
      "5. The Data-Wan\n",
      "6. C-3SQL\n",
      "7. RebelRelation\n",
      "8. EmpireAI\n",
      "9. Death StarDB\n",
      "10. Chewie-Set\n",
      "11. YodaSchemas\n",
      "12. Count Dookudate\n",
      "13. R2-SQLE\n",
      "14. Investigative-Programmer L3-37\n",
      "15. SQL Executor-71\n",
      "16. Darth Data\n",
      "17. Imperial Analyzer\n",
      "18. Holo-Query\n",
      "19. Galaxy Search\n",
      "20. SQL-B-DOS"
     ]
    }
   ],
   "source": [
    "for chunk in openai.ChatCompletion.create(\n",
    "    model=\"gpt-3.5-turbo\",\n",
    "    messages=[\n",
    "        {\n",
    "            \"role\": \"user\",\n",
    "            \"content\": \"Generate a list of 20 names of SQL AI assistants from star wars\",\n",
    "        }\n",
    "    ],\n",
    "    stream=True,\n",
    "):\n",
    "    content = chunk[\"choices\"][0].get(\"delta\", {}).get(\"content\")\n",
    "    if content is not None:\n",
    "        print(content, end=\"\")"
   ]
  }
 ],
 "metadata": {
  "kernelspec": {
   "display_name": "Python 3 (ipykernel)",
   "language": "python",
   "name": "python3"
  },
  "language_info": {
   "codemirror_mode": {
    "name": "ipython",
    "version": 3
   },
   "file_extension": ".py",
   "mimetype": "text/x-python",
   "name": "python",
   "nbconvert_exporter": "python",
   "pygments_lexer": "ipython3",
   "version": "3.9.12"
  }
 },
 "nbformat": 4,
 "nbformat_minor": 5
}
