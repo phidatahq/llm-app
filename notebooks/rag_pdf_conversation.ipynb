{
 "cells": [
  {
   "cell_type": "markdown",
   "id": "147a72de-12f6-4265-8ae6-78da85e90a0f",
   "metadata": {},
   "source": [
    "## RAG PDF Conversation Cookbook\n",
    "\n",
    "This notebook shows common recipes for working with the RAG PDF conversation"
   ]
  },
  {
   "cell_type": "markdown",
   "id": "7f9e44f4-86b1-4d42-8cc7-daea5f19df3c",
   "metadata": {},
   "source": [
    "### Create the conversation\n",
    "\n",
    "Create the conversation and load the knowledge base"
   ]
  },
  {
   "cell_type": "code",
   "execution_count": null,
   "id": "fffebfba-7aa4-4e5c-a9db-3bcfdfe10145",
   "metadata": {},
   "outputs": [],
   "source": [
    "from llm.conversations.pdf_rag import get_pdf_rag_conversation\n",
    "\n",
    "pdf_rag_conversation = get_pdf_rag_conversation()\n",
    "\n",
    "LOAD_KNOWLEDGE_BASE = True\n",
    "if LOAD_KNOWLEDGE_BASE and pdf_rag_conversation.knowledge_base:\n",
    "    pdf_rag_conversation.knowledge_base.load(recreate=False)"
   ]
  },
  {
   "cell_type": "markdown",
   "id": "ceae2749-acc8-4b1f-8b4f-04a82f499b6b",
   "metadata": {},
   "source": [
    "### Chat with the RAG PDF conversation \n",
    "\n",
    "You can chat with a conversation using:\n",
    "1. The `print_response()` function that prints the reponse\n",
    "2. The `chat()` function that returns the response"
   ]
  },
  {
   "cell_type": "code",
   "execution_count": 2,
   "id": "97e280f1-3e4b-48cd-b92c-7039f058fe7c",
   "metadata": {},
   "outputs": [
    {
     "data": {
      "application/vnd.jupyter.widget-view+json": {
       "model_id": "597776f64c694600be844754678a6865",
       "version_major": 2,
       "version_minor": 0
      },
      "text/plain": [
       "Output()"
      ]
     },
     "metadata": {},
     "output_type": "display_data"
    },
    {
     "data": {
      "text/html": [
       "<pre style=\"white-space:pre;overflow-x:auto;line-height:normal;font-family:Menlo,'DejaVu Sans Mono',consolas,'Courier New',monospace\"></pre>\n"
      ],
      "text/plain": []
     },
     "metadata": {},
     "output_type": "display_data"
    }
   ],
   "source": [
    "pdf_rag_conversation.print_response(\"Tell me about food safety?\", stream=True)"
   ]
  },
  {
   "cell_type": "code",
   "execution_count": 3,
   "id": "ee21aa3d-88ef-4d54-b4f9-3edc278f7471",
   "metadata": {},
   "outputs": [
    {
     "name": "stdout",
     "output_type": "stream",
     "text": [
      "Food Safety: 4 Basic Principles\n",
      "\n",
      "1. **Cross Contamination**\n",
      "   - Keep raw and cooked foods separate from each other as well as foods that contain the known allergens. For example, use separate chopping boards.\n",
      "   - Cover hair and wear protective clothing such as aprons to prevent you from contaminating foods.\n",
      "   - Wash fruit & vegetables/salad prior to use and service.\n",
      "\n",
      "2. **Cleaning**\n",
      "   - Wash hands every time on commencing work, after handling raw foods, after toilet breaks, and after handling any dirty packaging.\n",
      "   - Working surfaces should be cleaned on a regular basis – clean as you go – especially after food prep/raw & allergen-related products. Use a sanitiser and clean cloths.\n",
      "\n",
      "3. **Chilling**\n",
      "   - Foods which must be kept chilled have a ‘use by’ date and/or instructions to keep refrigerated. Also, remember to chill foods you have cooked to use later and ready to eat foods such as sandwiches, cooked meats, and salads.\n"
     ]
    }
   ],
   "source": [
    "food_safety_response = pdf_rag_conversation.chat(\"Tell me about food safety?\", stream=False)\n",
    "print(food_safety_response)"
   ]
  },
  {
   "cell_type": "markdown",
   "id": "4bfb16df-2153-410a-9db5-b3d21a6fc8e4",
   "metadata": {},
   "source": [
    "### Updating the prompt for the RAG conversation\n",
    "\n",
    "Update the system and user prompt functions using the `system_prompt` and `user_prompt_function` parameters"
   ]
  },
  {
   "cell_type": "code",
   "execution_count": 4,
   "id": "cb4bf00d-e1fa-4a65-8bc8-bc765eb51570",
   "metadata": {},
   "outputs": [
    {
     "data": {
      "application/vnd.jupyter.widget-view+json": {
       "model_id": "75ed469c467a42d2988f00c41bbeae38",
       "version_major": 2,
       "version_minor": 0
      },
      "text/plain": [
       "Output()"
      ]
     },
     "metadata": {},
     "output_type": "display_data"
    },
    {
     "data": {
      "text/html": [
       "<pre style=\"white-space:pre;overflow-x:auto;line-height:normal;font-family:Menlo,'DejaVu Sans Mono',consolas,'Courier New',monospace\"></pre>\n"
      ],
      "text/plain": []
     },
     "metadata": {},
     "output_type": "display_data"
    }
   ],
   "source": [
    "from typing import Optional\n",
    "\n",
    "\n",
    "def custom_user_prompt_function(message: str, references: Optional[str] = None, **kwargs) -> str:\n",
    "    return f\"\"\"\\\n",
    "    You can use this information from the knowledge base:\n",
    "    <knowledge_base>\n",
    "    {references}\n",
    "    </knowledge_base>\n",
    "    \n",
    "    Respond to this message:\n",
    "    USER: {message}\n",
    "    ASSISTANT:\n",
    "    \"\"\"\n",
    "\n",
    "\n",
    "pdf_rag_conversation.system_prompt = \"Talk to me like a pirate. Respond in under 3 sentences\"\n",
    "pdf_rag_conversation.user_prompt_function = custom_user_prompt_function\n",
    "\n",
    "pdf_rag_conversation.print_response(\"share a nice recipe?\")"
   ]
  },
  {
   "cell_type": "markdown",
   "id": "01b9374b-b89f-4f63-8e46-ff616abc2c14",
   "metadata": {},
   "source": [
    "### Checking the prompt generated by the RAG conversation\n",
    "\n",
    "To see the underlying user prompt given a message and references, run the `get_user_prompt()` function. Use the `get_references_from_knowledge_base()` function to get the relevant documents from the knowledge base."
   ]
  },
  {
   "cell_type": "code",
   "execution_count": 5,
   "id": "5c8165d3-b4ef-459d-b3d9-179d17cbe9e1",
   "metadata": {},
   "outputs": [
    {
     "name": "stdout",
     "output_type": "stream",
     "text": [
      "    You can use this information from the knowledge base:\n",
      "    <knowledge_base>\n",
      "    [{\"content\": \"Chicken Curry & Rice Serves 20 Ingredients 100g Extended Life Vegetable Oil 200g Red Onions 200g Courgettes 1ea Butternut Squash 300g Button Mushrooms 2ea Red Peppers 800g Cauliflower 2kg Tikka Sauce: ready made (Check ingredient list for allergens) 2g Cracked Pepper 1kg Diced Chicken Breast Getting ready 1. Peel and dice the onions 2. Wash and dice the courgettes 3. Peel and dice the butternut squash 4. Wash and \\u00bc the mushrooms 5. De-seed and dice the red pepper 6. Cut the cauliflower into florets Method 1. In vegetable oil fry the chicken, onion and garlic without colour for 5 minutes 2. Add the prepared vegetables and stir well together 3. Add Tikka sauce and simmer for 25 - 30 minutes checking all the time to ensure curry does not burn. Check chicken and vegetables are fully cooked before service 4. Serve with rice 14Celery Milk Sulphur Dioxide\", \"name\": \"meals-more-recipes\", \"meta_data\": {\"page\": 14, \"chunk\": 1, \"chunk_size\": 860}}, {\"content\": \"Getting ready 1. Cut chicken into even bite size pieces 2. Peel and dice the onions 3. Peel and finely slice the garlic 4. Wash the mangetout 5. Pick the coriander leaves and chop 6. Cut the red and yellow peppers into strips Method 1. Place a frying pan on a medium heat and add the oil 2. Add the onions & garlic and stir fry for about 2mins until soft 3. Now add the chicken and stir fry for another 2mins to seal the chicken 4. Add the peppers and stir fry for another 2mins, lower the heat & add the korma paste, mix well 5. Next add the coconut milk, stir well and leave to simmer for about 5mins 6. Finally add the pineapple & mangetout, mix well and allow to simmer for a further 2mins or until the chicken is fully cooked 7. Take off the heat, add the coriander, stir in and serve with rice and/or naan breadChicken, Coconut & Pineapple Curry Serves 2 Ingredients 1ea Chicken Breast Fillet 20g Knorr Korma Paste (Check ingredient list for allergens) 150ml Coconut Milk 125g Large Onions 3clv Fresh Garlic 45g Pineapple Chunks (in pineapple juice) 50g Mangetout 5g Coriander 0.5ea Red Pepper 0.5ea Yellow Pepper 20ml Sunflower Oil 20Guest Chef Mark Sargeant Mustard\", \"name\": \"meals-more-recipes\", \"meta_data\": {\"page\": 20, \"chunk\": 1, \"chunk_size\": 1173}}]\n",
      "    </knowledge_base>\n",
      "    \n",
      "    Respond to this message:\n",
      "    USER: This is my message\n",
      "    ASSISTANT:\n",
      "    \n"
     ]
    }
   ],
   "source": [
    "test_user_prompt = pdf_rag_conversation.get_user_prompt(\n",
    "    message=\"This is my message\",\n",
    "    references=pdf_rag_conversation.get_references_from_knowledge_base(query=\"chicken curry\"),\n",
    ")\n",
    "print(test_user_prompt)"
   ]
  }
 ],
 "metadata": {
  "kernelspec": {
   "display_name": "Python 3 (ipykernel)",
   "language": "python",
   "name": "python3"
  },
  "language_info": {
   "codemirror_mode": {
    "name": "ipython",
    "version": 3
   },
   "file_extension": ".py",
   "mimetype": "text/x-python",
   "name": "python",
   "nbconvert_exporter": "python",
   "pygments_lexer": "ipython3",
   "version": "3.11.5"
  }
 },
 "nbformat": 4,
 "nbformat_minor": 5
}
