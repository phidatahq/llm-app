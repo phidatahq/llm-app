{
 "cells": [
  {
   "cell_type": "markdown",
   "id": "147a72de-12f6-4265-8ae6-78da85e90a0f",
   "metadata": {},
   "source": [
    "## Autonomous PDF Conversations\n",
    "\n",
    "This notebook shows common recipes of working with the Autonomous PDF conversation"
   ]
  },
  {
   "cell_type": "markdown",
   "id": "7f9e44f4-86b1-4d42-8cc7-daea5f19df3c",
   "metadata": {},
   "source": [
    "### Create the conversation\n",
    "\n",
    "Create the conversation and load the knowledge base"
   ]
  },
  {
   "cell_type": "code",
   "execution_count": 2,
   "id": "fffebfba-7aa4-4e5c-a9db-3bcfdfe10145",
   "metadata": {},
   "outputs": [
    {
     "data": {
      "text/html": [
       "<pre style=\"white-space:pre;overflow-x:auto;line-height:normal;font-family:Menlo,'DejaVu Sans Mono',consolas,'Courier New',monospace\"><span style=\"color: #000080; text-decoration-color: #000080\">INFO    </span> Loading knowledge base                                                                                    \n",
       "</pre>\n"
      ],
      "text/plain": [
       "\u001b[34mINFO    \u001b[0m Loading knowledge base                                                                                    \n"
      ]
     },
     "metadata": {},
     "output_type": "display_data"
    },
    {
     "data": {
      "text/html": [
       "<pre style=\"white-space:pre;overflow-x:auto;line-height:normal;font-family:Menlo,'DejaVu Sans Mono',consolas,'Courier New',monospace\"><span style=\"color: #000080; text-decoration-color: #000080\">INFO    </span> Reading: <span style=\"color: #0000ff; text-decoration-color: #0000ff; text-decoration: underline\">https://www.family-action.org.uk/content/uploads/2019/07/meals-more-recipes.pdf</span>                  \n",
       "</pre>\n"
      ],
      "text/plain": [
       "\u001b[34mINFO    \u001b[0m Reading: \u001b[4;94mhttps://www.family-action.org.uk/content/uploads/2019/07/meals-more-recipes.pdf\u001b[0m                  \n"
      ]
     },
     "metadata": {},
     "output_type": "display_data"
    },
    {
     "data": {
      "text/html": [
       "<pre style=\"white-space:pre;overflow-x:auto;line-height:normal;font-family:Menlo,'DejaVu Sans Mono',consolas,'Courier New',monospace\"><span style=\"color: #000080; text-decoration-color: #000080\">INFO    </span> Loaded <span style=\"color: #008080; text-decoration-color: #008080; font-weight: bold\">0</span> documents to knowledge base                                                                      \n",
       "</pre>\n"
      ],
      "text/plain": [
       "\u001b[34mINFO    \u001b[0m Loaded \u001b[1;36m0\u001b[0m documents to knowledge base                                                                      \n"
      ]
     },
     "metadata": {},
     "output_type": "display_data"
    }
   ],
   "source": [
    "from llm.conversations.pdf_auto import get_pdf_auto_conversation\n",
    "\n",
    "pdf_auto_conversation = get_pdf_auto_conversation()\n",
    "\n",
    "LOAD_KNOWLEDGE_BASE = True\n",
    "if LOAD_KNOWLEDGE_BASE and pdf_auto_conversation.knowledge_base:\n",
    "    pdf_auto_conversation.knowledge_base.load(recreate=False)"
   ]
  },
  {
   "cell_type": "markdown",
   "id": "32794361-7c00-4dac-9f66-f6bdfe08945e",
   "metadata": {},
   "source": [
    "### Chatting with the Autonomous PDF conversation \n",
    "\n",
    "You can chat with a conversation using:\n",
    "1. The `print_response()` function that prints the reponse\n",
    "2. The `chat()` function that returns the response"
   ]
  },
  {
   "cell_type": "code",
   "execution_count": 4,
   "id": "f138be8a-7605-484f-8600-48d0adea6820",
   "metadata": {},
   "outputs": [
    {
     "data": {
      "application/vnd.jupyter.widget-view+json": {
       "model_id": "b253652a95a148ab87db7bdd6c84629d",
       "version_major": 2,
       "version_minor": 0
      },
      "text/plain": [
       "Output()"
      ]
     },
     "metadata": {},
     "output_type": "display_data"
    },
    {
     "data": {
      "text/html": [
       "<pre style=\"white-space:pre;overflow-x:auto;line-height:normal;font-family:Menlo,'DejaVu Sans Mono',consolas,'Courier New',monospace\"></pre>\n"
      ],
      "text/plain": []
     },
     "metadata": {},
     "output_type": "display_data"
    }
   ],
   "source": [
    "pdf_auto_conversation.print_response(\"Tell me about food safety?\", stream=True)"
   ]
  },
  {
   "cell_type": "code",
   "execution_count": 5,
   "id": "0945b63a-1a8d-436b-b20b-a000779e2afa",
   "metadata": {},
   "outputs": [
    {
     "name": "stdout",
     "output_type": "stream",
     "text": [
      "Running: search_knowledge_base(query=food safety)\n",
      "\n",
      "Food safety is crucial to prevent foodborne illnesses and contamination. Here are the four basic principles of food safety:\n",
      "\n",
      "1. **Cross-contamination prevention**: Keep raw and cooked foods separate from each other as well as foods that contain known allergens. Use separate chopping boards and cover hair and wear protective clothing such as aprons.\n",
      "\n",
      "2. **Cleaning**: Wash hands frequently, especially after handling raw foods, after toilet breaks, and after handling any dirty packaging. Also, regularly clean the working surfaces, especially after food preparation.\n",
      "\n",
      "3. **Chilling**: Foods which must be kept chilled have a mentioned 'use-by' date and/or instructions to keep refrigerated. Remember to chill foods you have cooked to use later and ready-to-eat foods such as sandwiches, cooked meats, and salads. \n",
      "\n",
      "Remember, proper food safety methods help in maintaining the quality of food while preventing potential foodborne illnesses.\n"
     ]
    }
   ],
   "source": [
    "food_safety_response = pdf_auto_conversation.chat(\"Tell me about food safety?\", stream=False)\n",
    "print(food_safety_response)"
   ]
  }
 ],
 "metadata": {
  "kernelspec": {
   "display_name": "Python 3 (ipykernel)",
   "language": "python",
   "name": "python3"
  },
  "language_info": {
   "codemirror_mode": {
    "name": "ipython",
    "version": 3
   },
   "file_extension": ".py",
   "mimetype": "text/x-python",
   "name": "python",
   "nbconvert_exporter": "python",
   "pygments_lexer": "ipython3",
   "version": "3.11.5"
  }
 },
 "nbformat": 4,
 "nbformat_minor": 5
}
