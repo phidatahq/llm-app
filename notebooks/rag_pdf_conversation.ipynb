{
 "cells": [
  {
   "cell_type": "markdown",
   "id": "147a72de-12f6-4265-8ae6-78da85e90a0f",
   "metadata": {},
   "source": [
    "## RAG PDF Conversation Cookbook\n",
    "\n",
    "This notebook shows common recipes of working with the RAG PDF conversation"
   ]
  },
  {
   "cell_type": "markdown",
   "id": "7f9e44f4-86b1-4d42-8cc7-daea5f19df3c",
   "metadata": {},
   "source": [
    "### Create the conversation\n",
    "\n",
    "Create the conversation and load the knowledge base"
   ]
  },
  {
   "cell_type": "code",
   "execution_count": 15,
   "id": "fffebfba-7aa4-4e5c-a9db-3bcfdfe10145",
   "metadata": {},
   "outputs": [
    {
     "data": {
      "text/html": [
       "<pre style=\"white-space:pre;overflow-x:auto;line-height:normal;font-family:Menlo,'DejaVu Sans Mono',consolas,'Courier New',monospace\"><span style=\"color: #000080; text-decoration-color: #000080\">INFO    </span> Loading knowledge base                                                                                    \n",
       "</pre>\n"
      ],
      "text/plain": [
       "\u001b[34mINFO    \u001b[0m Loading knowledge base                                                                                    \n"
      ]
     },
     "metadata": {},
     "output_type": "display_data"
    },
    {
     "data": {
      "text/html": [
       "<pre style=\"white-space:pre;overflow-x:auto;line-height:normal;font-family:Menlo,'DejaVu Sans Mono',consolas,'Courier New',monospace\"><span style=\"color: #000080; text-decoration-color: #000080\">INFO    </span> Reading: <span style=\"color: #0000ff; text-decoration-color: #0000ff; text-decoration: underline\">https://www.family-action.org.uk/content/uploads/2019/07/meals-more-recipes.pdf</span>                  \n",
       "</pre>\n"
      ],
      "text/plain": [
       "\u001b[34mINFO    \u001b[0m Reading: \u001b[4;94mhttps://www.family-action.org.uk/content/uploads/2019/07/meals-more-recipes.pdf\u001b[0m                  \n"
      ]
     },
     "metadata": {},
     "output_type": "display_data"
    },
    {
     "data": {
      "text/html": [
       "<pre style=\"white-space:pre;overflow-x:auto;line-height:normal;font-family:Menlo,'DejaVu Sans Mono',consolas,'Courier New',monospace\"><span style=\"color: #000080; text-decoration-color: #000080\">INFO    </span> Loaded <span style=\"color: #008080; text-decoration-color: #008080; font-weight: bold\">0</span> documents to knowledge base                                                                      \n",
       "</pre>\n"
      ],
      "text/plain": [
       "\u001b[34mINFO    \u001b[0m Loaded \u001b[1;36m0\u001b[0m documents to knowledge base                                                                      \n"
      ]
     },
     "metadata": {},
     "output_type": "display_data"
    }
   ],
   "source": [
    "from llm.conversations.pdf_rag import get_pdf_rag_conversation\n",
    "\n",
    "pdf_rag_conversation = get_pdf_rag_conversation()\n",
    "\n",
    "LOAD_KNOWLEDGE_BASE = True\n",
    "if LOAD_KNOWLEDGE_BASE and pdf_rag_conversation.knowledge_base:\n",
    "    pdf_rag_conversation.knowledge_base.load(recreate=False)"
   ]
  },
  {
   "cell_type": "markdown",
   "id": "ceae2749-acc8-4b1f-8b4f-04a82f499b6b",
   "metadata": {},
   "source": [
    "### Chat with the RAG PDF conversation \n",
    "\n",
    "You can chat with a conversation using:\n",
    "1. The `print_response()` function that prints the reponse\n",
    "2. The `chat()` function that returns the response"
   ]
  },
  {
   "cell_type": "code",
   "execution_count": 17,
   "id": "97e280f1-3e4b-48cd-b92c-7039f058fe7c",
   "metadata": {},
   "outputs": [
    {
     "data": {
      "application/vnd.jupyter.widget-view+json": {
       "model_id": "cda8a3e16359487b8574aef1dbe70eb2",
       "version_major": 2,
       "version_minor": 0
      },
      "text/plain": [
       "Output()"
      ]
     },
     "metadata": {},
     "output_type": "display_data"
    },
    {
     "data": {
      "text/html": [
       "<pre style=\"white-space:pre;overflow-x:auto;line-height:normal;font-family:Menlo,'DejaVu Sans Mono',consolas,'Courier New',monospace\"></pre>\n"
      ],
      "text/plain": []
     },
     "metadata": {},
     "output_type": "display_data"
    }
   ],
   "source": [
    "pdf_rag_conversation.print_response(\"Tell me about food safety?\", stream=True)"
   ]
  },
  {
   "cell_type": "code",
   "execution_count": 16,
   "id": "ee21aa3d-88ef-4d54-b4f9-3edc278f7471",
   "metadata": {},
   "outputs": [
    {
     "name": "stdout",
     "output_type": "stream",
     "text": [
      "Food safety revolves around four basic principles:\n",
      "\n",
      "1. **Cross Contamination**: Keep raw and cooked foods separate and also foods that contain known allergens. Use separate chopping boards for different food types. Always wear protective clothing, like aprons, and wash fruits and vegetables before use.\n",
      "\n",
      "2. **Cleaning**: Ensure to wash your hands when you start work, after handling raw foods, after toilet breaks, and after touching any dirty packaging. Clean working surfaces regularly, especially after preparing food. Use a sanitiser and clean cloths.\n",
      "\n",
      "3. **Chilling**: Foods with a 'use by' date or instructions to keep refrigerated must be kept chilled. This includes foods you've cooked for later use and ready-to-eat foods like sandwiches, salads, and cooked meats.\n",
      "   \n",
      "Remember keeping food safe is crucial to prevent foodborne illnesses.\n"
     ]
    }
   ],
   "source": [
    "food_safety_response = pdf_rag_conversation.chat(\"Tell me about food safety?\", stream=False)\n",
    "print(food_safety_response)"
   ]
  },
  {
   "cell_type": "markdown",
   "id": "4bfb16df-2153-410a-9db5-b3d21a6fc8e4",
   "metadata": {},
   "source": [
    "### Updating the prompt for the RAG conversation\n",
    "\n",
    "Update the system and user prompt functions using the `system_prompt` and `user_prompt_function` parameters"
   ]
  },
  {
   "cell_type": "code",
   "execution_count": 14,
   "id": "cb4bf00d-e1fa-4a65-8bc8-bc765eb51570",
   "metadata": {},
   "outputs": [
    {
     "data": {
      "application/vnd.jupyter.widget-view+json": {
       "model_id": "028ccc93025e4ac3aeee25bab19b8902",
       "version_major": 2,
       "version_minor": 0
      },
      "text/plain": [
       "Output()"
      ]
     },
     "metadata": {},
     "output_type": "display_data"
    },
    {
     "data": {
      "text/html": [
       "<pre style=\"white-space:pre;overflow-x:auto;line-height:normal;font-family:Menlo,'DejaVu Sans Mono',consolas,'Courier New',monospace\"></pre>\n"
      ],
      "text/plain": []
     },
     "metadata": {},
     "output_type": "display_data"
    }
   ],
   "source": [
    "from typing import Optional\n",
    "\n",
    "\n",
    "def custom_user_prompt_function(message: str, references: Optional[str] = None, **kwargs) -> str:\n",
    "    return f\"\"\"\\\n",
    "    You can use this information from the knowledge base:\n",
    "    <knowledge_base>\n",
    "    {references}\n",
    "    </knowledge_base>\n",
    "    \n",
    "    Respond to this message:\n",
    "    USER: {message}\n",
    "    ASSISTANT:\n",
    "    \"\"\"\n",
    "\n",
    "\n",
    "pdf_rag_conversation.system_prompt = \"Talk to me like a pirate. Respond in under 3 sentences\"\n",
    "pdf_rag_conversation.user_prompt_function = custom_user_prompt_function\n",
    "\n",
    "pdf_rag_conversation.print_response(\"share a nice recipe?\")"
   ]
  },
  {
   "cell_type": "markdown",
   "id": "01b9374b-b89f-4f63-8e46-ff616abc2c14",
   "metadata": {},
   "source": [
    "### Checking the prompt generated by the RAG conversation\n",
    "\n",
    "To see the underlying user prompt given a message and references, run the `get_user_prompt()` function. Use the `get_references_from_knowledge_base()` function to get the relevant documents from the knowledge base."
   ]
  },
  {
   "cell_type": "code",
   "execution_count": 9,
   "id": "5c8165d3-b4ef-459d-b3d9-179d17cbe9e1",
   "metadata": {},
   "outputs": [
    {
     "name": "stdout",
     "output_type": "stream",
     "text": [
      "Use the following information from the knowledge base if it helps.\n",
      "<knowledge_base>\n",
      "[{\"content\": \"Chicken Curry & Rice Serves 20 Ingredients 100g Extended Life Vegetable Oil 200g Red Onions 200g Courgettes 1ea Butternut Squash 300g Button Mushrooms 2ea Red Peppers 800g Cauliflower 2kg Tikka Sauce: ready made (Check ingredient list for allergens) 2g Cracked Pepper 1kg Diced Chicken Breast Getting ready 1. Peel and dice the onions 2. Wash and dice the courgettes 3. Peel and dice the butternut squash 4. Wash and \\u00bc the mushrooms 5. De-seed and dice the red pepper 6. Cut the cauliflower into florets Method 1. In vegetable oil fry the chicken, onion and garlic without colour for 5 minutes 2. Add the prepared vegetables and stir well together 3. Add Tikka sauce and simmer for 25 - 30 minutes checking all the time to ensure curry does not burn. Check chicken and vegetables are fully cooked before service 4. Serve with rice 14Celery Milk Sulphur Dioxide\", \"name\": \"meals-more-recipes\", \"meta_data\": {\"page\": 14, \"chunk\": 1, \"chunk_size\": 860}}, {\"content\": \"Getting ready 1. Cut chicken into even bite size pieces 2. Peel and dice the onions 3. Peel and finely slice the garlic 4. Wash the mangetout 5. Pick the coriander leaves and chop 6. Cut the red and yellow peppers into strips Method 1. Place a frying pan on a medium heat and add the oil 2. Add the onions & garlic and stir fry for about 2mins until soft 3. Now add the chicken and stir fry for another 2mins to seal the chicken 4. Add the peppers and stir fry for another 2mins, lower the heat & add the korma paste, mix well 5. Next add the coconut milk, stir well and leave to simmer for about 5mins 6. Finally add the pineapple & mangetout, mix well and allow to simmer for a further 2mins or until the chicken is fully cooked 7. Take off the heat, add the coriander, stir in and serve with rice and/or naan breadChicken, Coconut & Pineapple Curry Serves 2 Ingredients 1ea Chicken Breast Fillet 20g Knorr Korma Paste (Check ingredient list for allergens) 150ml Coconut Milk 125g Large Onions 3clv Fresh Garlic 45g Pineapple Chunks (in pineapple juice) 50g Mangetout 5g Coriander 0.5ea Red Pepper 0.5ea Yellow Pepper 20ml Sunflower Oil 20Guest Chef Mark Sargeant Mustard\", \"name\": \"meals-more-recipes\", \"meta_data\": {\"page\": 20, \"chunk\": 1, \"chunk_size\": 1173}}]\n",
      "</knowledge_base>\n",
      "\n",
      "Respond to the following message:\n",
      "USER: This is my message\n",
      "ASSISTANT:\n",
      "\n"
     ]
    }
   ],
   "source": [
    "test_user_prompt = pdf_rag_conversation.get_user_prompt(\n",
    "    message=\"This is my message\",\n",
    "    references=pdf_rag_conversation.get_references_from_knowledge_base(query=\"chicken curry\"),\n",
    ")\n",
    "print(test_user_prompt)"
   ]
  }
 ],
 "metadata": {
  "kernelspec": {
   "display_name": "Python 3 (ipykernel)",
   "language": "python",
   "name": "python3"
  },
  "language_info": {
   "codemirror_mode": {
    "name": "ipython",
    "version": 3
   },
   "file_extension": ".py",
   "mimetype": "text/x-python",
   "name": "python",
   "nbconvert_exporter": "python",
   "pygments_lexer": "ipython3",
   "version": "3.11.5"
  }
 },
 "nbformat": 4,
 "nbformat_minor": 5
}
