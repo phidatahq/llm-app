{
 "cells": [
  {
   "cell_type": "code",
   "execution_count": 1,
   "id": "5ebc982b-56fe-4037-9537-3bf14c414b1e",
   "metadata": {
    "tags": []
   },
   "outputs": [],
   "source": [
    "import openai\n",
    "\n",
    "# -*- Add the OPENAI_API_KEY using:\n",
    "# 1. Set OPENAI_API_KEY variable in workspace/secrets/dev_jupyter_secrets.yml\n",
    "#    Then restart container using: `phi ws restart dev:docker:jupyter -y`\n",
    "# 2. Directly in this notebook (NOT RECOMMENDED)\n",
    "# from os import environ\n",
    "#\n",
    "# if environ.get(\"OPENAI_API_KEY\") is None:\n",
    "#     openai.api_key = \"YOUR_API_KEY\""
   ]
  },
  {
   "cell_type": "code",
   "execution_count": 3,
   "id": "8621bf64-d717-41bb-ae9f-3d7f5da25b45",
   "metadata": {
    "tags": []
   },
   "outputs": [
    {
     "name": "stdout",
     "output_type": "stream",
     "text": [
      "1. R2-SQL \n",
      "2. C-3PO Databank \n",
      "3. BB-9E Analytics \n",
      "4. K-2SO Query \n",
      "5. L3-37 Miner \n",
      "6. IG-11 Integration \n",
      "7. HK-47 Tactical \n",
      "8. IG-88 ETL \n",
      "9. T3-M4 Metadata \n",
      "10. 4-LOM Pipeline \n",
      "11. EV-9D9 Transform \n",
      "12. MSE-6 RPA \n",
      "13. TC-14 Optimizer \n",
      "14. TC-17 Insight \n",
      "15. DL-44 Explorer \n",
      "16. DX-13 Modeler \n",
      "17. RX-24 Forecast \n",
      "18. R1-G4 Database \n",
      "19. GNK Power Load \n",
      "20. Viper Probe Droid Analytics"
     ]
    }
   ],
   "source": [
    "for chunk in openai.ChatCompletion.create(\n",
    "    model=\"gpt-3.5-turbo\",\n",
    "    messages=[\n",
    "        {\n",
    "            \"role\": \"user\",\n",
    "            \"content\": \"Generate a list of 20 names of SQL AI assistants from star wars\",\n",
    "        }\n",
    "    ],\n",
    "    stream=True,\n",
    "):\n",
    "    content = chunk[\"choices\"][0].get(\"delta\", {}).get(\"content\")\n",
    "    if content is not None:\n",
    "        print(content, end=\"\")"
   ]
  }
 ],
 "metadata": {
  "kernelspec": {
   "display_name": "Python 3 (ipykernel)",
   "language": "python",
   "name": "python3"
  },
  "language_info": {
   "codemirror_mode": {
    "name": "ipython",
    "version": 3
   },
   "file_extension": ".py",
   "mimetype": "text/x-python",
   "name": "python",
   "nbconvert_exporter": "python",
   "pygments_lexer": "ipython3",
   "version": "3.9.12"
  }
 },
 "nbformat": 4,
 "nbformat_minor": 5
}
