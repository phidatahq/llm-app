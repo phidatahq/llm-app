{
 "cells": [
  {
   "attachments": {},
   "cell_type": "markdown",
   "id": "b889015b",
   "metadata": {},
   "source": [
    "## Build a chat based product using pdfs as a knowledge base\n",
    "\n",
    "- [Langchain reference](https://python.langchain.com/en/latest/modules/indexes/vectorstores/examples/qdrant.html)\n",
    "- [Qdrant reference](https://qdrant.tech/articles/langchain-integration/)"
   ]
  },
  {
   "cell_type": "code",
   "execution_count": null,
   "id": "b5694a83",
   "metadata": {
    "tags": []
   },
   "outputs": [],
   "source": [
    "import glob\n",
    "from os import environ\n",
    "from pathlib import Path\n",
    "from typing import List, Optional\n",
    "\n",
    "import openai\n",
    "import qdrant_client\n",
    "from langchain.chat_models import ChatOpenAI\n",
    "from langchain.chains import ConversationalRetrievalChain\n",
    "from langchain.embeddings.openai import OpenAIEmbeddings\n",
    "from langchain.document_loaders import PyPDFLoader\n",
    "from langchain.docstore.document import Document\n",
    "from langchain.text_splitter import RecursiveCharacterTextSplitter\n",
    "from langchain.vectorstores import Qdrant\n",
    "\n",
    "from llm.settings import llm_settings\n",
    "from workspace.settings import ws_settings\n",
    "\n",
    "# -*- Set OPENAI_API_KEY in one of 3 ways:\n",
    "# 1. Set OPENAI_API_KEY variable in workspace/secrets/dev_jupyter_secrets.yml\n",
    "#    NOTE: Container needs to be restarted to pickup new env: `phi ws restart dev:docker:jupyter -y`\n",
    "# 2. In `workspace/secrets/openai-api-key.txt` (does not need restart)\n",
    "# 3. Directly in this notebook (NOT RECOMMENDED)\n",
    "if environ.get(\"OPENAI_API_KEY\", None) is None:\n",
    "    OPENAI_API_KEY_FILE = ws_settings.ws_root.joinpath(\n",
    "        \"workspace/secrets/openai-api-key.txt\"\n",
    "    )\n",
    "    openai.api_key = OPENAI_API_KEY_FILE.read_text().strip()"
   ]
  },
  {
   "cell_type": "code",
   "execution_count": null,
   "id": "a3b11f1d",
   "metadata": {
    "tags": []
   },
   "outputs": [],
   "source": [
    "# Create a list of PDFs to read\n",
    "pdfs_to_read: List[Path] = []\n",
    "for pdf in ws_settings.ws_root.glob(\"data/*.pdf\"):\n",
    "    pdfs_to_read.append(pdf)"
   ]
  },
  {
   "cell_type": "code",
   "execution_count": null,
   "id": "7be5e74d",
   "metadata": {
    "tags": []
   },
   "outputs": [],
   "source": [
    "%%time\n",
    "\n",
    "# Create a list of loaded PDF documents\n",
    "loaded_pdfs: List[Document] = []\n",
    "for pdf in pdfs_to_read:\n",
    "    loader = PyPDFLoader(str(pdf))\n",
    "    # Load the PDF document\n",
    "    document = loader.load()\n",
    "    # Add the loaded document to the list\n",
    "    loaded_pdfs.append(document)\n",
    "    print(f\"Loaded: {str(pdf)}\")"
   ]
  },
  {
   "cell_type": "code",
   "execution_count": null,
   "id": "6427c0eb",
   "metadata": {
    "tags": []
   },
   "outputs": [],
   "source": [
    "%%time\n",
    "\n",
    "# Create list of chunked loaded pdfs\n",
    "chunked_pdfs: List[List[Document]] = []\n",
    "text_splitter = RecursiveCharacterTextSplitter(chunk_size=500, chunk_overlap=0)\n",
    "for pdf in loaded_pdfs:\n",
    "    # Chunk the loaded pdf\n",
    "    texts = text_splitter.split_documents(pdf)\n",
    "    # Add the chunks to chunked_pdfs\n",
    "    chunked_pdfs.append(texts)\n",
    "    print(f\"Chunked PDF length: {len(texts)}\")"
   ]
  },
  {
   "cell_type": "code",
   "execution_count": null,
   "id": "adf54531",
   "metadata": {
    "tags": []
   },
   "outputs": [],
   "source": [
    "embeddings = OpenAIEmbeddings()"
   ]
  },
  {
   "cell_type": "code",
   "execution_count": null,
   "id": "000fae51",
   "metadata": {
    "tags": []
   },
   "outputs": [],
   "source": [
    "# Flatten the chunked_pdfs\n",
    "flat_chunked_pdf = [item for sublist in chunked_pdfs for item in sublist]"
   ]
  },
  {
   "cell_type": "code",
   "execution_count": null,
   "id": "24107189",
   "metadata": {
    "tags": []
   },
   "outputs": [],
   "source": [
    "%%time\n",
    "\n",
    "# Connect to Qdrant\n",
    "qdrant = Qdrant.from_documents(\n",
    "    documents=flat_chunked_pdf,\n",
    "    embedding=embeddings,\n",
    "    location=\":memory:\",  # Local mode with in-memory storage only\n",
    "    collection_name=\"chat_with_pdf\",\n",
    ")"
   ]
  },
  {
   "cell_type": "code",
   "execution_count": null,
   "id": "915704ba",
   "metadata": {
    "tags": []
   },
   "outputs": [],
   "source": [
    "retriever = qdrant.as_retriever()\n",
    "print(f\"Retriever: {retriever}\")"
   ]
  },
  {
   "cell_type": "code",
   "execution_count": null,
   "id": "38a2ef27",
   "metadata": {
    "tags": []
   },
   "outputs": [],
   "source": [
    "%%time\n",
    "\n",
    "# Create the chain\n",
    "qa = ConversationalRetrievalChain.from_llm(\n",
    "    ChatOpenAI(\n",
    "        temperature=llm_settings.default_temperature, model=llm_settings.chat_model\n",
    "    ),\n",
    "    retriever=retriever,\n",
    "    condense_question_llm=ChatOpenAI(\n",
    "        temperature=llm_settings.default_temperature, model=llm_settings.condense_model\n",
    "    ),\n",
    ")"
   ]
  },
  {
   "cell_type": "code",
   "execution_count": null,
   "id": "9aa53de9",
   "metadata": {
    "tags": []
   },
   "outputs": [],
   "source": [
    "chat_history = []"
   ]
  },
  {
   "cell_type": "code",
   "execution_count": null,
   "id": "02a34091-a2df-4a14-b9c1-2d217dd37fc6",
   "metadata": {
    "tags": []
   },
   "outputs": [],
   "source": [
    "%%time\n",
    "\n",
    "query = \"When did Airbnb IPO?\"\n",
    "result = qa({\"question\": query, \"chat_history\": chat_history})\n",
    "print(result[\"answer\"])"
   ]
  },
  {
   "cell_type": "code",
   "execution_count": null,
   "id": "d43a976a",
   "metadata": {
    "tags": []
   },
   "outputs": [],
   "source": [
    "%%time\n",
    "\n",
    "query = \"What was Airbnb's net income that year?\"\n",
    "result = qa({\"question\": query, \"chat_history\": chat_history})\n",
    "print(result[\"answer\"])"
   ]
  },
  {
   "cell_type": "code",
   "execution_count": null,
   "id": "496b341c",
   "metadata": {
    "tags": []
   },
   "outputs": [],
   "source": [
    "%%time\n",
    "\n",
    "query = \"How many shares were issued that year?\"\n",
    "result = qa({\"question\": query, \"chat_history\": chat_history})\n",
    "print(result[\"answer\"])"
   ]
  }
 ],
 "metadata": {
  "kernelspec": {
   "display_name": "Python 3 (ipykernel)",
   "language": "python",
   "name": "python3"
  },
  "language_info": {
   "codemirror_mode": {
    "name": "ipython",
    "version": 3
   },
   "file_extension": ".py",
   "mimetype": "text/x-python",
   "name": "python",
   "nbconvert_exporter": "python",
   "pygments_lexer": "ipython3",
   "version": "3.9.12"
  }
 },
 "nbformat": 4,
 "nbformat_minor": 5
}
