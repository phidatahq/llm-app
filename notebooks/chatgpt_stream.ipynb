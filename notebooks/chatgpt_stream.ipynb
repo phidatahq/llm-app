{
 "cells": [
  {
   "cell_type": "code",
   "execution_count": null,
   "id": "5ebc982b-56fe-4037-9537-3bf14c414b1e",
   "metadata": {
    "tags": []
   },
   "outputs": [],
   "source": [
    "import openai\n",
    "from os import environ\n",
    "\n",
    "from workspace.settings import ws_settings\n",
    "\n",
    "# -*- Set OPENAI_API_KEY in one of 3 ways:\n",
    "# 1. Set OPENAI_API_KEY variable in workspace/secrets/dev_jupyter_secrets.yml\n",
    "#    NOTE: Container needs to be restarted to pickup new env: `phi ws restart dev:docker:jupyter -y`\n",
    "# 2. In `workspace/secrets/openai-api-key.txt` (does not need restart)\n",
    "# 3. Directly in this notebook (NOT RECOMMENDED)\n",
    "if environ.get(\"OPENAI_API_KEY\", None) is None:\n",
    "    OPENAI_API_KEY_FILE = ws_settings.ws_root.joinpath(\n",
    "        \"workspace/secrets/openai-api-key.txt\"\n",
    "    )\n",
    "    openai.api_key = OPENAI_API_KEY_FILE.read_text().strip()"
   ]
  },
  {
   "cell_type": "code",
   "execution_count": null,
   "id": "8621bf64-d717-41bb-ae9f-3d7f5da25b45",
   "metadata": {
    "tags": []
   },
   "outputs": [],
   "source": [
    "for chunk in openai.ChatCompletion.create(\n",
    "    model=\"gpt-3.5-turbo\",\n",
    "    messages=[\n",
    "        {\n",
    "            \"role\": \"user\",\n",
    "            \"content\": \"Generate a list of 20 names of SQL AI assistants from star wars\",\n",
    "        }\n",
    "    ],\n",
    "    stream=True,\n",
    "):\n",
    "    content = chunk[\"choices\"][0].get(\"delta\", {}).get(\"content\")\n",
    "    if content is not None:\n",
    "        print(content, end=\"\")"
   ]
  }
 ],
 "metadata": {
  "kernelspec": {
   "display_name": "Python 3 (ipykernel)",
   "language": "python",
   "name": "python3"
  },
  "language_info": {
   "codemirror_mode": {
    "name": "ipython",
    "version": 3
   },
   "file_extension": ".py",
   "mimetype": "text/x-python",
   "name": "python",
   "nbconvert_exporter": "python",
   "pygments_lexer": "ipython3",
   "version": "3.9.12"
  }
 },
 "nbformat": 4,
 "nbformat_minor": 5
}
