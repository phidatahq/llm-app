{
 "cells": [
  {
   "cell_type": "markdown",
   "id": "ca9922cd-3909-4677-a03b-01a6e0ff60ba",
   "metadata": {},
   "source": [
    "## Conversation Cookbook\n",
    "\n",
    "This notebook shows common recipes for working with phidata conversations"
   ]
  },
  {
   "cell_type": "markdown",
   "id": "80543754-3d90-4def-b473-d64433a5de84",
   "metadata": {},
   "source": [
    "### Basic conversation"
   ]
  },
  {
   "cell_type": "code",
   "execution_count": 3,
   "id": "5ebc982b-56fe-4037-9537-3bf14c414b1e",
   "metadata": {
    "scrolled": true,
    "tags": []
   },
   "outputs": [
    {
     "data": {
      "text/html": [
       "<pre style=\"white-space:pre;overflow-x:auto;line-height:normal;font-family:Menlo,'DejaVu Sans Mono',consolas,'Courier New',monospace\"><span style=\"color: #000080; text-decoration-color: #000080\">╭──────────┬──────────────────────────────────────────────────────────────────────────────────────────────────────╮</span>\n",
       "<span style=\"color: #000080; text-decoration-color: #000080\">│</span><span style=\"font-weight: bold\"> Message  </span><span style=\"color: #000080; text-decoration-color: #000080\">│</span><span style=\"font-weight: bold\"> Share a quick healthy breakfast recipe.                                                              </span><span style=\"color: #000080; text-decoration-color: #000080\">│</span>\n",
       "<span style=\"color: #000080; text-decoration-color: #000080\">├──────────┼──────────────────────────────────────────────────────────────────────────────────────────────────────┤</span>\n",
       "<span style=\"color: #000080; text-decoration-color: #000080\">│</span> Response <span style=\"color: #000080; text-decoration-color: #000080\">│</span> Here's a quick and healthy breakfast recipe:                                                         <span style=\"color: #000080; text-decoration-color: #000080\">│</span>\n",
       "<span style=\"color: #000080; text-decoration-color: #000080\">│</span> (3.5s)   <span style=\"color: #000080; text-decoration-color: #000080\">│</span>                                                                                                      <span style=\"color: #000080; text-decoration-color: #000080\">│</span>\n",
       "<span style=\"color: #000080; text-decoration-color: #000080\">│</span>          <span style=\"color: #000080; text-decoration-color: #000080\">│</span> Ingredients:                                                                                         <span style=\"color: #000080; text-decoration-color: #000080\">│</span>\n",
       "<span style=\"color: #000080; text-decoration-color: #000080\">│</span>          <span style=\"color: #000080; text-decoration-color: #000080\">│</span>                                                                                                      <span style=\"color: #000080; text-decoration-color: #000080\">│</span>\n",
       "<span style=\"color: #000080; text-decoration-color: #000080\">│</span>          <span style=\"color: #000080; text-decoration-color: #000080\">│</span> <span style=\"color: #808000; text-decoration-color: #808000; font-weight: bold\"> • </span>1 cup of Greek yogurt                                                                             <span style=\"color: #000080; text-decoration-color: #000080\">│</span>\n",
       "<span style=\"color: #000080; text-decoration-color: #000080\">│</span>          <span style=\"color: #000080; text-decoration-color: #000080\">│</span> <span style=\"color: #808000; text-decoration-color: #808000; font-weight: bold\"> • </span>1 tablespoon of honey                                                                             <span style=\"color: #000080; text-decoration-color: #000080\">│</span>\n",
       "<span style=\"color: #000080; text-decoration-color: #000080\">│</span>          <span style=\"color: #000080; text-decoration-color: #000080\">│</span> <span style=\"color: #808000; text-decoration-color: #808000; font-weight: bold\"> • </span>1/4 cup of granola                                                                                <span style=\"color: #000080; text-decoration-color: #000080\">│</span>\n",
       "<span style=\"color: #000080; text-decoration-color: #000080\">│</span>          <span style=\"color: #000080; text-decoration-color: #000080\">│</span> <span style=\"color: #808000; text-decoration-color: #808000; font-weight: bold\"> • </span>1/2 cup of mixed berries (such as strawberries, blueberries, and raspberries)                     <span style=\"color: #000080; text-decoration-color: #000080\">│</span>\n",
       "<span style=\"color: #000080; text-decoration-color: #000080\">│</span>          <span style=\"color: #000080; text-decoration-color: #000080\">│</span> <span style=\"color: #808000; text-decoration-color: #808000; font-weight: bold\"> • </span>1 tablespoon of chia seeds (optional)                                                             <span style=\"color: #000080; text-decoration-color: #000080\">│</span>\n",
       "<span style=\"color: #000080; text-decoration-color: #000080\">│</span>          <span style=\"color: #000080; text-decoration-color: #000080\">│</span>                                                                                                      <span style=\"color: #000080; text-decoration-color: #000080\">│</span>\n",
       "<span style=\"color: #000080; text-decoration-color: #000080\">│</span>          <span style=\"color: #000080; text-decoration-color: #000080\">│</span> Instructions:                                                                                        <span style=\"color: #000080; text-decoration-color: #000080\">│</span>\n",
       "<span style=\"color: #000080; text-decoration-color: #000080\">│</span>          <span style=\"color: #000080; text-decoration-color: #000080\">│</span>                                                                                                      <span style=\"color: #000080; text-decoration-color: #000080\">│</span>\n",
       "<span style=\"color: #000080; text-decoration-color: #000080\">│</span>          <span style=\"color: #000080; text-decoration-color: #000080\">│</span> <span style=\"color: #808000; text-decoration-color: #808000; font-weight: bold\"> 1 </span>In a bowl, mix the Greek yogurt and honey together until well combined.                           <span style=\"color: #000080; text-decoration-color: #000080\">│</span>\n",
       "<span style=\"color: #000080; text-decoration-color: #000080\">│</span>          <span style=\"color: #000080; text-decoration-color: #000080\">│</span> <span style=\"color: #808000; text-decoration-color: #808000; font-weight: bold\"> 2 </span>In a glass or jar, layer the Greek yogurt mixture, granola, mixed berries, and chia seeds (if     <span style=\"color: #000080; text-decoration-color: #000080\">│</span>\n",
       "<span style=\"color: #000080; text-decoration-color: #000080\">│</span>          <span style=\"color: #000080; text-decoration-color: #000080\">│</span> <span style=\"color: #808000; text-decoration-color: #808000; font-weight: bold\">   </span>using), repeating until all the ingredients are used.                                             <span style=\"color: #000080; text-decoration-color: #000080\">│</span>\n",
       "<span style=\"color: #000080; text-decoration-color: #000080\">│</span>          <span style=\"color: #000080; text-decoration-color: #000080\">│</span> <span style=\"color: #808000; text-decoration-color: #808000; font-weight: bold\"> 3 </span>Serve immediately and enjoy!                                                                      <span style=\"color: #000080; text-decoration-color: #000080\">│</span>\n",
       "<span style=\"color: #000080; text-decoration-color: #000080\">│</span>          <span style=\"color: #000080; text-decoration-color: #000080\">│</span>                                                                                                      <span style=\"color: #000080; text-decoration-color: #000080\">│</span>\n",
       "<span style=\"color: #000080; text-decoration-color: #000080\">│</span>          <span style=\"color: #000080; text-decoration-color: #000080\">│</span> Note: You can also prepare this recipe the night before and refrigerate it to enjoy as overnight     <span style=\"color: #000080; text-decoration-color: #000080\">│</span>\n",
       "<span style=\"color: #000080; text-decoration-color: #000080\">│</span>          <span style=\"color: #000080; text-decoration-color: #000080\">│</span> oats. Just mix all the ingredients together and let it sit in the fridge overnight.                  <span style=\"color: #000080; text-decoration-color: #000080\">│</span>\n",
       "<span style=\"color: #000080; text-decoration-color: #000080\">╰──────────┴──────────────────────────────────────────────────────────────────────────────────────────────────────╯</span>\n",
       "</pre>\n"
      ],
      "text/plain": [
       "\u001b[34m╭──────────┬──────────────────────────────────────────────────────────────────────────────────────────────────────╮\u001b[0m\n",
       "\u001b[34m│\u001b[0m\u001b[1m \u001b[0m\u001b[1mMessage \u001b[0m\u001b[1m \u001b[0m\u001b[34m│\u001b[0m\u001b[1m \u001b[0m\u001b[1mShare a quick healthy breakfast recipe.                                                             \u001b[0m\u001b[1m \u001b[0m\u001b[34m│\u001b[0m\n",
       "\u001b[34m├──────────┼──────────────────────────────────────────────────────────────────────────────────────────────────────┤\u001b[0m\n",
       "\u001b[34m│\u001b[0m Response \u001b[34m│\u001b[0m Here's a quick and healthy breakfast recipe:                                                         \u001b[34m│\u001b[0m\n",
       "\u001b[34m│\u001b[0m (3.5s)   \u001b[34m│\u001b[0m                                                                                                      \u001b[34m│\u001b[0m\n",
       "\u001b[34m│\u001b[0m          \u001b[34m│\u001b[0m Ingredients:                                                                                         \u001b[34m│\u001b[0m\n",
       "\u001b[34m│\u001b[0m          \u001b[34m│\u001b[0m                                                                                                      \u001b[34m│\u001b[0m\n",
       "\u001b[34m│\u001b[0m          \u001b[34m│\u001b[0m \u001b[1;33m • \u001b[0m1 cup of Greek yogurt                                                                             \u001b[34m│\u001b[0m\n",
       "\u001b[34m│\u001b[0m          \u001b[34m│\u001b[0m \u001b[1;33m • \u001b[0m1 tablespoon of honey                                                                             \u001b[34m│\u001b[0m\n",
       "\u001b[34m│\u001b[0m          \u001b[34m│\u001b[0m \u001b[1;33m • \u001b[0m1/4 cup of granola                                                                                \u001b[34m│\u001b[0m\n",
       "\u001b[34m│\u001b[0m          \u001b[34m│\u001b[0m \u001b[1;33m • \u001b[0m1/2 cup of mixed berries (such as strawberries, blueberries, and raspberries)                     \u001b[34m│\u001b[0m\n",
       "\u001b[34m│\u001b[0m          \u001b[34m│\u001b[0m \u001b[1;33m • \u001b[0m1 tablespoon of chia seeds (optional)                                                             \u001b[34m│\u001b[0m\n",
       "\u001b[34m│\u001b[0m          \u001b[34m│\u001b[0m                                                                                                      \u001b[34m│\u001b[0m\n",
       "\u001b[34m│\u001b[0m          \u001b[34m│\u001b[0m Instructions:                                                                                        \u001b[34m│\u001b[0m\n",
       "\u001b[34m│\u001b[0m          \u001b[34m│\u001b[0m                                                                                                      \u001b[34m│\u001b[0m\n",
       "\u001b[34m│\u001b[0m          \u001b[34m│\u001b[0m \u001b[1;33m 1 \u001b[0mIn a bowl, mix the Greek yogurt and honey together until well combined.                           \u001b[34m│\u001b[0m\n",
       "\u001b[34m│\u001b[0m          \u001b[34m│\u001b[0m \u001b[1;33m 2 \u001b[0mIn a glass or jar, layer the Greek yogurt mixture, granola, mixed berries, and chia seeds (if     \u001b[34m│\u001b[0m\n",
       "\u001b[34m│\u001b[0m          \u001b[34m│\u001b[0m \u001b[1;33m   \u001b[0musing), repeating until all the ingredients are used.                                             \u001b[34m│\u001b[0m\n",
       "\u001b[34m│\u001b[0m          \u001b[34m│\u001b[0m \u001b[1;33m 3 \u001b[0mServe immediately and enjoy!                                                                      \u001b[34m│\u001b[0m\n",
       "\u001b[34m│\u001b[0m          \u001b[34m│\u001b[0m                                                                                                      \u001b[34m│\u001b[0m\n",
       "\u001b[34m│\u001b[0m          \u001b[34m│\u001b[0m Note: You can also prepare this recipe the night before and refrigerate it to enjoy as overnight     \u001b[34m│\u001b[0m\n",
       "\u001b[34m│\u001b[0m          \u001b[34m│\u001b[0m oats. Just mix all the ingredients together and let it sit in the fridge overnight.                  \u001b[34m│\u001b[0m\n",
       "\u001b[34m╰──────────┴──────────────────────────────────────────────────────────────────────────────────────────────────────╯\u001b[0m\n"
      ]
     },
     "metadata": {},
     "output_type": "display_data"
    },
    {
     "data": {
      "text/html": [
       "<pre style=\"white-space:pre;overflow-x:auto;line-height:normal;font-family:Menlo,'DejaVu Sans Mono',consolas,'Courier New',monospace\"></pre>\n"
      ],
      "text/plain": []
     },
     "metadata": {},
     "output_type": "display_data"
    }
   ],
   "source": [
    "from phi.conversation import Conversation\n",
    "\n",
    "conversation = Conversation()\n",
    "conversation.print_response(\"Share a quick healthy breakfast recipe.\")"
   ]
  },
  {
   "cell_type": "markdown",
   "id": "7b9d7d92-5ec2-4734-a513-d622d762f9b0",
   "metadata": {},
   "source": [
    "### Adding an Agent to the conversation\n",
    "\n",
    "To add an Agent to the conversation:\n",
    "\n",
    "1. Import the agent\n",
    "2. Add it to the conversation"
   ]
  },
  {
   "cell_type": "code",
   "execution_count": 2,
   "id": "896b1f4d-6cad-498c-ac8c-9b28ea1d61b9",
   "metadata": {},
   "outputs": [
    {
     "data": {
      "text/html": [
       "<pre style=\"white-space:pre;overflow-x:auto;line-height:normal;font-family:Menlo,'DejaVu Sans Mono',consolas,'Courier New',monospace\"><span style=\"color: #000080; text-decoration-color: #000080\">INFO    </span> Running shell command: <span style=\"font-weight: bold\">[</span><span style=\"color: #008000; text-decoration-color: #008000\">'ls'</span>, <span style=\"color: #008000; text-decoration-color: #008000\">'-l'</span><span style=\"font-weight: bold\">]</span>                                                                       \n",
       "</pre>\n"
      ],
      "text/plain": [
       "\u001b[34mINFO    \u001b[0m Running shell command: \u001b[1m[\u001b[0m\u001b[32m'ls'\u001b[0m, \u001b[32m'-l'\u001b[0m\u001b[1m]\u001b[0m                                                                       \n"
      ]
     },
     "metadata": {},
     "output_type": "display_data"
    },
    {
     "data": {
      "text/html": [
       "<pre style=\"white-space:pre;overflow-x:auto;line-height:normal;font-family:Menlo,'DejaVu Sans Mono',consolas,'Courier New',monospace\"><span style=\"color: #000080; text-decoration-color: #000080\">╭──────────┬──────────────────────────────────────────────────────────────────────────────────────────────────────╮</span>\n",
       "<span style=\"color: #000080; text-decoration-color: #000080\">│</span><span style=\"font-weight: bold\"> Message  </span><span style=\"color: #000080; text-decoration-color: #000080\">│</span><span style=\"font-weight: bold\"> Tell me the files in this directory and their size                                                   </span><span style=\"color: #000080; text-decoration-color: #000080\">│</span>\n",
       "<span style=\"color: #000080; text-decoration-color: #000080\">├──────────┼──────────────────────────────────────────────────────────────────────────────────────────────────────┤</span>\n",
       "<span style=\"color: #000080; text-decoration-color: #000080\">│</span> Response <span style=\"color: #000080; text-decoration-color: #000080\">│</span> Here are the files in the current directory and their sizes:                                         <span style=\"color: #000080; text-decoration-color: #000080\">│</span>\n",
       "<span style=\"color: #000080; text-decoration-color: #000080\">│</span> (2.4s)   <span style=\"color: #000080; text-decoration-color: #000080\">│</span>                                                                                                      <span style=\"color: #000080; text-decoration-color: #000080\">│</span>\n",
       "<span style=\"color: #000080; text-decoration-color: #000080\">│</span>          <span style=\"color: #000080; text-decoration-color: #000080\">│</span> <span style=\"color: #808000; text-decoration-color: #808000; font-weight: bold\"> • </span><span style=\"color: #008080; text-decoration-color: #008080; background-color: #000000; font-weight: bold\">__init__.py</span>: 0 bytes                                                                              <span style=\"color: #000080; text-decoration-color: #000080\">│</span>\n",
       "<span style=\"color: #000080; text-decoration-color: #000080\">│</span>          <span style=\"color: #000080; text-decoration-color: #000080\">│</span> <span style=\"color: #808000; text-decoration-color: #808000; font-weight: bold\"> • </span><span style=\"color: #008080; text-decoration-color: #008080; background-color: #000000; font-weight: bold\">auto_pdf_conversation.ipynb</span>: 6367 bytes                                                           <span style=\"color: #000080; text-decoration-color: #000080\">│</span>\n",
       "<span style=\"color: #000080; text-decoration-color: #000080\">│</span>          <span style=\"color: #000080; text-decoration-color: #000080\">│</span> <span style=\"color: #808000; text-decoration-color: #808000; font-weight: bold\"> • </span><span style=\"color: #008080; text-decoration-color: #008080; background-color: #000000; font-weight: bold\">basics.ipynb</span>: 57669 bytes                                                                         <span style=\"color: #000080; text-decoration-color: #000080\">│</span>\n",
       "<span style=\"color: #000080; text-decoration-color: #000080\">│</span>          <span style=\"color: #000080; text-decoration-color: #000080\">│</span> <span style=\"color: #808000; text-decoration-color: #808000; font-weight: bold\"> • </span><span style=\"color: #008080; text-decoration-color: #008080; background-color: #000000; font-weight: bold\">rag_pdf_conversation.ipynb</span>: 11540 bytes                                                           <span style=\"color: #000080; text-decoration-color: #000080\">│</span>\n",
       "<span style=\"color: #000080; text-decoration-color: #000080\">╰──────────┴──────────────────────────────────────────────────────────────────────────────────────────────────────╯</span>\n",
       "</pre>\n"
      ],
      "text/plain": [
       "\u001b[34m╭──────────┬──────────────────────────────────────────────────────────────────────────────────────────────────────╮\u001b[0m\n",
       "\u001b[34m│\u001b[0m\u001b[1m \u001b[0m\u001b[1mMessage \u001b[0m\u001b[1m \u001b[0m\u001b[34m│\u001b[0m\u001b[1m \u001b[0m\u001b[1mTell me the files in this directory and their size                                                  \u001b[0m\u001b[1m \u001b[0m\u001b[34m│\u001b[0m\n",
       "\u001b[34m├──────────┼──────────────────────────────────────────────────────────────────────────────────────────────────────┤\u001b[0m\n",
       "\u001b[34m│\u001b[0m Response \u001b[34m│\u001b[0m Here are the files in the current directory and their sizes:                                         \u001b[34m│\u001b[0m\n",
       "\u001b[34m│\u001b[0m (2.4s)   \u001b[34m│\u001b[0m                                                                                                      \u001b[34m│\u001b[0m\n",
       "\u001b[34m│\u001b[0m          \u001b[34m│\u001b[0m \u001b[1;33m • \u001b[0m\u001b[1;36;40m__init__.py\u001b[0m: 0 bytes                                                                              \u001b[34m│\u001b[0m\n",
       "\u001b[34m│\u001b[0m          \u001b[34m│\u001b[0m \u001b[1;33m • \u001b[0m\u001b[1;36;40mauto_pdf_conversation.ipynb\u001b[0m: 6367 bytes                                                           \u001b[34m│\u001b[0m\n",
       "\u001b[34m│\u001b[0m          \u001b[34m│\u001b[0m \u001b[1;33m • \u001b[0m\u001b[1;36;40mbasics.ipynb\u001b[0m: 57669 bytes                                                                         \u001b[34m│\u001b[0m\n",
       "\u001b[34m│\u001b[0m          \u001b[34m│\u001b[0m \u001b[1;33m • \u001b[0m\u001b[1;36;40mrag_pdf_conversation.ipynb\u001b[0m: 11540 bytes                                                           \u001b[34m│\u001b[0m\n",
       "\u001b[34m╰──────────┴──────────────────────────────────────────────────────────────────────────────────────────────────────╯\u001b[0m\n"
      ]
     },
     "metadata": {},
     "output_type": "display_data"
    }
   ],
   "source": [
    "from phi.conversation import Conversation\n",
    "from phi.llm.agent.shell import ShellAgent\n",
    "\n",
    "shell_conversation = Conversation(agents=[ShellAgent()])\n",
    "\n",
    "shell_conversation.print_response(\"Tell me the files in this directory and their size\", stream=False)"
   ]
  }
 ],
 "metadata": {
  "kernelspec": {
   "display_name": "Python 3 (ipykernel)",
   "language": "python",
   "name": "python3"
  },
  "language_info": {
   "codemirror_mode": {
    "name": "ipython",
    "version": 3
   },
   "file_extension": ".py",
   "mimetype": "text/x-python",
   "name": "python",
   "nbconvert_exporter": "python",
   "pygments_lexer": "ipython3",
   "version": "3.11.5"
  }
 },
 "nbformat": 4,
 "nbformat_minor": 5
}
