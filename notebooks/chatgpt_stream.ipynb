{
 "cells": [
  {
   "cell_type": "code",
   "execution_count": 1,
   "id": "5ebc982b-56fe-4037-9537-3bf14c414b1e",
   "metadata": {
    "tags": []
   },
   "outputs": [],
   "source": [
    "import openai\n",
    "from os import environ\n",
    "\n",
    "from workspace.settings import ws_settings\n",
    "\n",
    "# -*- Set OPENAI_API_KEY in one of 3 ways:\n",
    "# 1. Set OPENAI_API_KEY variable in workspace/secrets/dev_jupyter_secrets.yml\n",
    "#    NOTE: Container needs to be restarted to pickup new env: `phi ws restart dev:docker:jupyter -y`\n",
    "# 2. In `workspace/secrets/openai-api-key.txt` (does not need restart)\n",
    "# 3. Directly in this notebook (NOT RECOMMENDED)\n",
    "if environ.get(\"OPENAI_API_KEY\", None) is None:\n",
    "    OPENAI_API_KEY_FILE = ws_settings.ws_root.joinpath(\n",
    "        \"workspace/secrets/openai-api-key.txt\"\n",
    "    )\n",
    "    openai.api_key = OPENAI_API_KEY_FILE.read_text().strip()"
   ]
  },
  {
   "cell_type": "code",
   "execution_count": 2,
   "id": "8621bf64-d717-41bb-ae9f-3d7f5da25b45",
   "metadata": {
    "tags": []
   },
   "outputs": [
    {
     "name": "stdout",
     "output_type": "stream",
     "text": [
      "1. C-3S0 (pronounced \"Cee-Threess-Zero\")\n",
      "2. R2-SQL\n",
      "3. BB-SQL\n",
      "4. T0-B7 (pronounced \"Tee-Oh-Bee-Seven\")\n",
      "5. IG-SS (pronounced \"Ee-Gee-Ess\")\n",
      "6. HK-SQL (pronounced \"H-K-See-Quell\")\n",
      "7. L3-SQL (pronounced \"Ell-Three-See-Quell\")\n",
      "8. MSE-6-SQL (pronounced \"Em-Ess-Ee-Six-See-Quell\")\n",
      "9. 2-1B-SQL (pronounced \"Two-One-Bee-See-Quell\")\n",
      "10. RA-7-SQL (pronounced \"Ar-Ay-Seven-See-Quell\")\n",
      "11. EV-9D9-SQL (pronounced \"Ee-Vee-Nine-Dee-Nine-See-Quell\")\n",
      "12. GNK-SQL (pronounced \"Gonk-See-Quell\")\n",
      "13. IT-O-SQL (pronounced \"Eye-Tee-Oh-See-Quell\")\n",
      "14. JK-9S (pronounced \"Jay-Kay-Nine-Ess\")\n",
      "15. KP-35-SQL (pronounced \"Kay-Pee-Three-Five-See-Quell\")\n",
      "16. KXS-26-SQL (pronounced \"Kay-Ex-Ess-Two-Six-See-Quell\")\n",
      "17. MSE-1J5-SQL (pronounced \"Em-Ess-Ee-One-Jay-Five-See-Quell\")\n",
      "18. OOM-9-SQL (pronounced \"OOM-Nine-See-Quell\")\n",
      "19. PROXY-SQL\n",
      "20. V1-4S (pronounced \"Vee-One-Four-Ess\")"
     ]
    }
   ],
   "source": [
    "for chunk in openai.ChatCompletion.create(\n",
    "    model=\"gpt-3.5-turbo\",\n",
    "    messages=[\n",
    "        {\n",
    "            \"role\": \"user\",\n",
    "            \"content\": \"Generate a list of 20 names of SQL AI assistants from star wars\",\n",
    "        }\n",
    "    ],\n",
    "    stream=True,\n",
    "):\n",
    "    content = chunk[\"choices\"][0].get(\"delta\", {}).get(\"content\")\n",
    "    if content is not None:\n",
    "        print(content, end=\"\")"
   ]
  }
 ],
 "metadata": {
  "kernelspec": {
   "display_name": "Python 3 (ipykernel)",
   "language": "python",
   "name": "python3"
  },
  "language_info": {
   "codemirror_mode": {
    "name": "ipython",
    "version": 3
   },
   "file_extension": ".py",
   "mimetype": "text/x-python",
   "name": "python",
   "nbconvert_exporter": "python",
   "pygments_lexer": "ipython3",
   "version": "3.9.12"
  }
 },
 "nbformat": 4,
 "nbformat_minor": 5
}
