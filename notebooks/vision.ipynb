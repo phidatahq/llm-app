{
 "cells": [
  {
   "cell_type": "markdown",
   "id": "ca9922cd-3909-4677-a03b-01a6e0ff60ba",
   "metadata": {},
   "source": [
    "## Vision Cookbook\n",
    "\n",
    "This notebook shows common recipes for working with multimodal LLMs."
   ]
  },
  {
   "cell_type": "markdown",
   "id": "80543754-3d90-4def-b473-d64433a5de84",
   "metadata": {},
   "source": [
    "### Create a conversation"
   ]
  },
  {
   "cell_type": "code",
   "execution_count": 1,
   "id": "5ebc982b-56fe-4037-9537-3bf14c414b1e",
   "metadata": {
    "scrolled": true,
    "tags": []
   },
   "outputs": [
    {
     "name": "stdout",
     "output_type": "stream",
     "text": [
      "Conversation.id: e8ef9e16-e1ad-4960-8efa-a24af05dfb4b\n"
     ]
    }
   ],
   "source": [
    "from phi.conversation import Conversation\n",
    "from phi.llm.openai import OpenAIChat\n",
    "\n",
    "from llm.settings import llm_settings\n",
    "\n",
    "conversation = Conversation(\n",
    "    llm=OpenAIChat(\n",
    "        model=llm_settings.gpt_4_vision,\n",
    "        max_tokens=llm_settings.default_max_tokens,\n",
    "        temperature=llm_settings.default_temperature,\n",
    "    ),\n",
    "    monitoring=True,\n",
    ")\n",
    "print(f\"Conversation.id: {conversation.id}\")"
   ]
  },
  {
   "cell_type": "markdown",
   "id": "7b9d7d92-5ec2-4734-a513-d622d762f9b0",
   "metadata": {},
   "source": [
    "### Single images"
   ]
  },
  {
   "cell_type": "code",
   "execution_count": 2,
   "id": "896b1f4d-6cad-498c-ac8c-9b28ea1d61b9",
   "metadata": {},
   "outputs": [
    {
     "data": {
      "application/vnd.jupyter.widget-view+json": {
       "model_id": "07c412c27b264ea39a1a5b53923647ae",
       "version_major": 2,
       "version_minor": 0
      },
      "text/plain": [
       "Output()"
      ]
     },
     "metadata": {},
     "output_type": "display_data"
    },
    {
     "data": {
      "text/html": [
       "<pre style=\"white-space:pre;overflow-x:auto;line-height:normal;font-family:Menlo,'DejaVu Sans Mono',consolas,'Courier New',monospace\"></pre>\n"
      ],
      "text/plain": []
     },
     "metadata": {},
     "output_type": "display_data"
    }
   ],
   "source": [
    "conversation.print_response(\n",
    "    [\n",
    "        {\"type\": \"text\", \"text\": \"What's in this image, describe in 1 sentence\"},\n",
    "        {\n",
    "            \"type\": \"image_url\",\n",
    "            \"image_url\": \"https://upload.wikimedia.org/wikipedia/commons/thumb/d/dd/Gfp-wisconsin-madison-the-nature-boardwalk.jpg/2560px-Gfp-wisconsin-madison-the-nature-boardwalk.jpg\",\n",
    "        },\n",
    "    ]\n",
    ")"
   ]
  },
  {
   "cell_type": "markdown",
   "id": "bbb5d399-c4c4-43fc-a6b4-2c55a3e83b63",
   "metadata": {},
   "source": [
    "### Multiple images"
   ]
  },
  {
   "cell_type": "code",
   "execution_count": 3,
   "id": "cb14c42d-4bae-4620-9c1a-937de1c29c64",
   "metadata": {},
   "outputs": [
    {
     "data": {
      "application/vnd.jupyter.widget-view+json": {
       "model_id": "466a3dc8490d4d958617ebf984d4b421",
       "version_major": 2,
       "version_minor": 0
      },
      "text/plain": [
       "Output()"
      ]
     },
     "metadata": {},
     "output_type": "display_data"
    },
    {
     "data": {
      "text/html": [
       "<pre style=\"white-space:pre;overflow-x:auto;line-height:normal;font-family:Menlo,'DejaVu Sans Mono',consolas,'Courier New',monospace\"></pre>\n"
      ],
      "text/plain": []
     },
     "metadata": {},
     "output_type": "display_data"
    }
   ],
   "source": [
    "conversation.print_response(\n",
    "    [\n",
    "        {\n",
    "            \"type\": \"text\",\n",
    "            \"text\": \"Is there any difference between these. Describe them in 1 sentence.\",\n",
    "        },\n",
    "        {\n",
    "            \"type\": \"image_url\",\n",
    "            \"image_url\": \"https://upload.wikimedia.org/wikipedia/commons/thumb/d/dd/Gfp-wisconsin-madison-the-nature-boardwalk.jpg/2560px-Gfp-wisconsin-madison-the-nature-boardwalk.jpg\",\n",
    "        },\n",
    "        {\n",
    "            \"type\": \"image_url\",\n",
    "            \"image_url\": \"https://upload.wikimedia.org/wikipedia/commons/thumb/d/dd/Gfp-wisconsin-madison-the-nature-boardwalk.jpg/2560px-Gfp-wisconsin-madison-the-nature-boardwalk.jpg\",\n",
    "        },\n",
    "    ]\n",
    ")"
   ]
  }
 ],
 "metadata": {
  "kernelspec": {
   "display_name": "Python 3 (ipykernel)",
   "language": "python",
   "name": "python3"
  },
  "language_info": {
   "codemirror_mode": {
    "name": "ipython",
    "version": 3
   },
   "file_extension": ".py",
   "mimetype": "text/x-python",
   "name": "python",
   "nbconvert_exporter": "python",
   "pygments_lexer": "ipython3",
   "version": "3.11.5"
  }
 },
 "nbformat": 4,
 "nbformat_minor": 5
}
